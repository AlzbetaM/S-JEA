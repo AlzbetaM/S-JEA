{
  "nbformat": 4,
  "nbformat_minor": 0,
  "metadata": {
    "colab": {
      "provenance": []
    },
    "kernelspec": {
      "name": "python3",
      "display_name": "Python 3"
    },
    "language_info": {
      "name": "python"
    },
    "gpuClass": "standard",
    "accelerator": "GPU"
  },
  "cells": [
    {
      "cell_type": "markdown",
      "source": [
        "# Stacked Joint Embedding Architecture (S-JEA) based on VICReg"
      ],
      "metadata": {
        "id": "rpDUxIAX1kZS"
      }
    },
    {
      "cell_type": "markdown",
      "source": [
        "**This notebook allows running S-JEA for small-scale ore-training and fine-tuning.**"
      ],
      "metadata": {
        "id": "8vG5yeXQ0Py8"
      }
    },
    {
      "cell_type": "markdown",
      "source": [
        "Before this notebook is run, it is necessary to choose GPU as the hardware accelerator. Select 'Runtime' from the above tabs, then choose 'Change runtime type'. Set GPU as the hardware accelerator. Now you can connect to runtime by clicking on 'Connect'."
      ],
      "metadata": {
        "id": "KG8jKIXp01pR"
      }
    },
    {
      "cell_type": "markdown",
      "source": [
        "## Loading Code Base"
      ],
      "metadata": {
        "id": "Wf9hVJSd1iJr"
      }
    },
    {
      "cell_type": "markdown",
      "source": [
        "While multiple ways can achieve the same results, that is, loading the whole of the S-JEA source code, here are two possible approaches. Firstly, load the zip file containing all required code by clicking on the folder icon, the upload icon Once the file is loaded, it can be unzipped using the following code.\n",
        "\n",
        "![upload.png](data:image/png;base64,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)\n"
      ],
      "metadata": {
        "id": "8OVH-GYh2CMt"
      }
    },
    {
      "cell_type": "code",
      "source": [
        "!unzip code.zip"
      ],
      "metadata": {
        "id": "m1gEncSH1hkV"
      },
      "execution_count": null,
      "outputs": []
    },
    {
      "cell_type": "markdown",
      "source": [
        "Other option is to first upload the code to your Google Drive, then mount it to this notebook with the following code. If the folder first converted to zip file, use the above to unzip it."
      ],
      "metadata": {
        "id": "XDqcrBCQ321w"
      }
    },
    {
      "cell_type": "code",
      "source": [
        "from google.colab import drive\n",
        "drive.mount('/content/drive')"
      ],
      "metadata": {
        "id": "h9sjN4ns1fmq"
      },
      "execution_count": null,
      "outputs": []
    },
    {
      "cell_type": "markdown",
      "source": [
        "Finally, change the root path to be the root of the code directory."
      ],
      "metadata": {
        "id": "PDEj_2dO4Pq7"
      }
    },
    {
      "cell_type": "code",
      "source": [
        "%cd /content/code"
      ],
      "metadata": {
        "id": "AnolxzDv4YdC"
      },
      "execution_count": null,
      "outputs": []
    },
    {
      "cell_type": "markdown",
      "source": [
        "## File Instalation"
      ],
      "metadata": {
        "id": "ySVtuiIR4q3l"
      }
    },
    {
      "cell_type": "markdown",
      "source": [
        "Installing modules that are not provided by default. Note that %%capture results in the cell output to be hidden. This can be removed in case of errors."
      ],
      "metadata": {
        "id": "_Zis4yIvitYW"
      }
    },
    {
      "cell_type": "code",
      "execution_count": null,
      "metadata": {
        "id": "jJS-_VOZHsDl"
      },
      "outputs": [],
      "source": [
        "%%capture \n",
        "!pip install neptune-client\n",
        "!pip install configargparse\n",
        "!pip install torch torchvision torchaudio --extra-index-url https://download.pytorch.org/whl/cu116\n",
        "!pip install pytorch_lightning==1.9"
      ]
    },
    {
      "cell_type": "markdown",
      "source": [
        "# Running Model"
      ],
      "metadata": {
        "id": "LwqxMJwTin0J"
      }
    },
    {
      "cell_type": "markdown",
      "source": [
        "Once everything is ready, make sure that all parameters are defined as you need. Also note that in case the model is trained on STL-10 data set, you also need to download and export the images as .png. The code to do so is provided below."
      ],
      "metadata": {
        "id": "oyrXPtHV5SFK"
      }
    },
    {
      "cell_type": "code",
      "source": [
        "!python stl10_download.py"
      ],
      "metadata": {
        "id": "vP0PI_APrVMs"
      },
      "execution_count": null,
      "outputs": []
    },
    {
      "cell_type": "markdown",
      "source": [
        "And finally, run the model!\n",
        "*(For reference, setting number of epochs to 10 or 20, model can run for an hour or even more, so small-scale training and evaluation only!)*"
      ],
      "metadata": {
        "id": "x-zjt_o7izvm"
      }
    },
    {
      "cell_type": "code",
      "source": [
        "!sh run.sh"
      ],
      "metadata": {
        "id": "SLpR4whNPZBQ"
      },
      "execution_count": null,
      "outputs": []
    }
  ]
}