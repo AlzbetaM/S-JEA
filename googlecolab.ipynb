{
  "nbformat": 4,
  "nbformat_minor": 0,
  "metadata": {
    "colab": {
      "provenance": []
    },
    "kernelspec": {
      "name": "python3",
      "display_name": "Python 3"
    },
    "language_info": {
      "name": "python"
    },
    "gpuClass": "standard"
  },
  "cells": [
    {
      "cell_type": "markdown",
      "source": [
        "Installing modules"
      ],
      "metadata": {
        "id": "_Zis4yIvitYW"
      }
    },
    {
      "cell_type": "code",
      "execution_count": null,
      "metadata": {
        "id": "jJS-_VOZHsDl"
      },
      "outputs": [],
      "source": [
        "pip install neptune-client"
      ]
    },
    {
      "cell_type": "code",
      "source": [
        "pip install configargparse"
      ],
      "metadata": {
        "id": "MByouxQ4e7tv"
      },
      "execution_count": null,
      "outputs": []
    },
    {
      "cell_type": "code",
      "source": [
        "pip install torch torchvision torchaudio --extra-index-url https://download.pytorch.org/whl/cu116"
      ],
      "metadata": {
        "id": "cL9PPoA0ihKI"
      },
      "execution_count": null,
      "outputs": []
    },
    {
      "cell_type": "code",
      "source": [
        "pip install pytorch_lightning"
      ],
      "metadata": {
        "id": "5Yb46yqIihUI"
      },
      "execution_count": null,
      "outputs": []
    },
    {
      "cell_type": "markdown",
      "source": [
        "Load data"
      ],
      "metadata": {
        "id": "LwqxMJwTin0J"
      }
    },
    {
      "cell_type": "code",
      "source": [
        "#from google.colab import drive\n",
        "#drive.mount('/content/drive/')"
      ],
      "metadata": {
        "id": "MQGrU8gRary4"
      },
      "execution_count": 5,
      "outputs": []
    },
    {
      "cell_type": "markdown",
      "source": [
        "Run LINUX"
      ],
      "metadata": {
        "id": "x-zjt_o7izvm"
      }
    },
    {
      "cell_type": "code",
      "source": [
        "!sh run.sh"
      ],
      "metadata": {
        "id": "SLpR4whNPZBQ"
      },
      "execution_count": null,
      "outputs": []
    },
    {
      "cell_type": "code",
      "source": [],
      "metadata": {
        "id": "RlDiRanlh8He"
      },
      "execution_count": 6,
      "outputs": []
    }
  ]
}